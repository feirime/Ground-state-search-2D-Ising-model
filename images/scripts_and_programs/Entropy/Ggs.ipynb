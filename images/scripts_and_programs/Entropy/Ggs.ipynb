{
 "cells": [
  {
   "cell_type": "code",
   "execution_count": null,
   "metadata": {},
   "outputs": [],
   "source": [
    "import os\n",
    "import numpy as np\n",
    "import matplotlib as mpl\n",
    "import matplotlib.pyplot as plt"
   ]
  },
  {
   "cell_type": "code",
   "execution_count": null,
   "metadata": {},
   "outputs": [],
   "source": [
    "spins = 64\n",
    "P_plus_sample = 0\n",
    "field_start = 0.1\n",
    "field_stop = 5\n",
    "field_steps = 1000"
   ]
  },
  {
   "cell_type": "code",
   "execution_count": null,
   "metadata": {},
   "outputs": [],
   "source": [
    "dos_dir = \"C:/Construct/DOS/dos\" + str(spins) + \"/\"\n",
    "H = np.linspace(field_start, field_stop, field_steps)\n",
    "P_plus = np.array([])\n",
    "J_sum = np.array([])\n",
    "file_count = 0\n",
    "max_gem_size = 0\n",
    "arr_of_files = np.array([])\n",
    "for file in os.listdir(dos_dir):\n",
    "    file = dos_dir + file\n",
    "    arr_of_files = np.append(arr_of_files, file)\n",
    "    N = int(open(file).readlines()[0].rstrip())\n",
    "    J_sum = np.append(J_sum, int(open(file).readlines()[2].rstrip()))\n",
    "    P_plus = np.append(P_plus, (2 * N * (N - 1) + J_sum[file_count]) / (4 * N * (N - 1)))\n",
    "    file_count += 1\n",
    "idx = P_plus.argsort()\n",
    "J_sum = J_sum[idx]\n",
    "P_plus = P_plus[idx]\n",
    "arr_of_files = arr_of_files[idx]"
   ]
  },
  {
   "cell_type": "code",
   "execution_count": null,
   "metadata": {},
   "outputs": [],
   "source": [
    "plt.figure(dpi=300)\n",
    "P_plus_sample = 0\n",
    "idxs = [i for i, x in enumerate(P_plus) if x > P_plus_sample]\n",
    "for indx in idxs:\n",
    "    file = arr_of_files[indx]\n",
    "    gem = np.loadtxt(open(file), skiprows=4).T\n",
    "    G = gem[0]\n",
    "    E = gem[1]\n",
    "    M = gem[2]\n",
    "    M_before = - N * N\n",
    "    stairs = 0\n",
    "    start = False\n",
    "    for h in range(len(H)):\n",
    "        Energy = E - M * H[h]\n",
    "        Egs_idx = np.argwhere(Energy <= np.min(Energy) * 0.9999)\n",
    "        Mgs = np.min(M[Egs_idx]) / (N * N)\n",
    "        if Mgs != M_before:\n",
    "            start = True\n",
    "        if start and Mgs == M_before and abs(H[h] - round(H[h])) > 0.05:\n",
    "            stairs += 1\n",
    "            start = False\n",
    "        if start and Mgs == M_before:\n",
    "            start = False\n",
    "        M_before = Mgs\n",
    "    plt.scatter(P_plus[indx], stairs, color='black', s=1)\n",
    "plt.xlabel(\"$P_{+}$\")\n",
    "plt.ylabel(\"Non integer M stairs\")\n",
    "#plt.savefig(\"../../Fractional_stairs.eps\", format='eps', dpi=300)\n",
    "plt.show()"
   ]
  }
 ],
 "metadata": {
  "kernelspec": {
   "display_name": "base",
   "language": "python",
   "name": "python3"
  },
  "language_info": {
   "name": "python",
   "version": "3.11.7"
  }
 },
 "nbformat": 4,
 "nbformat_minor": 2
}
